{
 "cells": [
  {
   "cell_type": "code",
   "execution_count": 1,
   "metadata": {
    "collapsed": true
   },
   "outputs": [],
   "source": [
    "import pandas as pd"
   ]
  },
  {
   "cell_type": "code",
   "execution_count": 2,
   "metadata": {},
   "outputs": [
    {
     "name": "stdout",
     "output_type": "stream",
     "text": [
      "[ 125.28879563  152.1148754   165.96624993   97.41071273   80.3448842\n",
      "   41.30387921  145.74441201  120.90544926   80.3448842   133.99704375\n",
      "   71.11063452   84.202229  ]\n",
      "[ 58.44461825]\n",
      "1.79531727608\n"
     ]
    },
    {
     "data": {
      "text/plain": [
       "array([ 125.28879563,  152.1148754 ,  165.96624993,   97.41071273,\n",
       "         80.3448842 ,   41.30387921,  145.74441201,  120.90544926,\n",
       "         80.3448842 ,  133.99704375,   71.11063452,   84.202229  ])"
      ]
     },
     "execution_count": 2,
     "metadata": {},
     "output_type": "execute_result"
    }
   ],
   "source": [
    "\n",
    "\n",
    "\n",
    "import numpy as np\n",
    "import pandas as pd\n",
    "import matplotlib.pyplot as plt\n",
    "import seaborn as sns\n",
    "get_ipython().magic(u'matplotlib inline')\n",
    "\n",
    "\n",
    "\n",
    "\n",
    "house=pd.read_csv('/home/rana/Documents/housing.csv')\n",
    "X=house.iloc[:,:-1].values\n",
    "Y=house.iloc[:,1].values\n",
    "house.head()\n",
    "\n",
    "\n",
    "\n",
    "\n",
    "from sklearn.model_selection import train_test_split\n",
    "\n",
    "\n",
    "\n",
    "x_train,x_test,y_train,y_test = train_test_split(X,Y,test_size=0.2,random_state=0)\n",
    "\n",
    "\n",
    "\n",
    "\n",
    "from sklearn.linear_model import LinearRegression\n",
    "regressor = LinearRegression()\n",
    "regressor.fit(x_train,y_train)\n",
    "\n",
    "\n",
    "\n",
    "\n",
    "y_pred=regressor.predict(x_test)\n",
    "print(y_pred)\n",
    "\n",
    "\n",
    "\n",
    "\n",
    "print(regressor.coef_)\n",
    "\n",
    "\n",
    "\n",
    "\n",
    "print(regressor.intercept_)\n",
    "\n",
    "\n",
    "\n",
    "from sklearn.metrics import r2_score\n",
    "r2_score(y_test,y_pred)\n",
    "\n",
    "\n",
    "y_test\n",
    "\n",
    "\n",
    "y_pred\n",
    "\n",
    "\n",
    "\n",
    "\n"
   ]
  },
  {
   "cell_type": "code",
   "execution_count": null,
   "metadata": {
    "collapsed": true
   },
   "outputs": [],
   "source": []
  }
 ],
 "metadata": {
  "kernelspec": {
   "display_name": "Python 3",
   "language": "python",
   "name": "python3"
  },
  "language_info": {
   "codemirror_mode": {
    "name": "ipython",
    "version": 3
   },
   "file_extension": ".py",
   "mimetype": "text/x-python",
   "name": "python",
   "nbconvert_exporter": "python",
   "pygments_lexer": "ipython3",
   "version": "3.6.8"
  }
 },
 "nbformat": 4,
 "nbformat_minor": 2
}
