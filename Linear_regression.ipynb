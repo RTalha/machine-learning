{
 "cells": [
  {
   "cell_type": "code",
   "execution_count": 1,
   "metadata": {
    "collapsed": true
   },
   "outputs": [],
   "source": [
    "import numpy as np\n",
    "import pandas as pd\n",
    "import matplotlib.pyplot as plt\n",
    "import seaborn as sns\n",
    "%matplotlib inline"
   ]
  },
  {
   "cell_type": "code",
   "execution_count": 4,
   "metadata": {},
   "outputs": [
    {
     "data": {
      "text/html": [
       "<div>\n",
       "<style>\n",
       "    .dataframe thead tr:only-child th {\n",
       "        text-align: right;\n",
       "    }\n",
       "\n",
       "    .dataframe thead th {\n",
       "        text-align: left;\n",
       "    }\n",
       "\n",
       "    .dataframe tbody tr th {\n",
       "        vertical-align: top;\n",
       "    }\n",
       "</style>\n",
       "<table border=\"1\" class=\"dataframe\">\n",
       "  <thead>\n",
       "    <tr style=\"text-align: right;\">\n",
       "      <th></th>\n",
       "      <th></th>\n",
       "      <th>Unnamed: 1</th>\n",
       "    </tr>\n",
       "  </thead>\n",
       "  <tbody>\n",
       "    <tr>\n",
       "      <th>0</th>\n",
       "      <td>0.951</td>\n",
       "      <td>30.0</td>\n",
       "    </tr>\n",
       "    <tr>\n",
       "      <th>1</th>\n",
       "      <td>1.036</td>\n",
       "      <td>39.9</td>\n",
       "    </tr>\n",
       "    <tr>\n",
       "      <th>2</th>\n",
       "      <td>0.676</td>\n",
       "      <td>46.5</td>\n",
       "    </tr>\n",
       "    <tr>\n",
       "      <th>3</th>\n",
       "      <td>1.456</td>\n",
       "      <td>48.6</td>\n",
       "    </tr>\n",
       "    <tr>\n",
       "      <th>4</th>\n",
       "      <td>1.186</td>\n",
       "      <td>51.5</td>\n",
       "    </tr>\n",
       "  </tbody>\n",
       "</table>\n",
       "</div>"
      ],
      "text/plain": [
       "          Unnamed: 1\n",
       "0  0.951        30.0\n",
       "1  1.036        39.9\n",
       "2  0.676        46.5\n",
       "3  1.456        48.6\n",
       "4  1.186        51.5"
      ]
     },
     "execution_count": 4,
     "metadata": {},
     "output_type": "execute_result"
    }
   ],
   "source": [
    "house=pd.read_csv('/home/rana/Documents/housing.csv')\n",
    "X=house.iloc[:,:-1].values\n",
    "Y=house.iloc[:,1].values\n",
    "house.head()"
   ]
  },
  {
   "cell_type": "code",
   "execution_count": 6,
   "metadata": {
    "collapsed": true
   },
   "outputs": [],
   "source": [
    "from sklearn.model_selection import train_test_split"
   ]
  },
  {
   "cell_type": "code",
   "execution_count": 8,
   "metadata": {},
   "outputs": [],
   "source": [
    "x_train,x_test,y_train,y_test = train_test_split(X,Y,test_size=0.2,random_state=0)"
   ]
  },
  {
   "cell_type": "code",
   "execution_count": 9,
   "metadata": {},
   "outputs": [
    {
     "data": {
      "text/plain": [
       "LinearRegression(copy_X=True, fit_intercept=True, n_jobs=1, normalize=False)"
      ]
     },
     "execution_count": 9,
     "metadata": {},
     "output_type": "execute_result"
    }
   ],
   "source": [
    "from sklearn.linear_model import LinearRegression\n",
    "regressor = LinearRegression()\n",
    "regressor.fit(x_train,y_train)"
   ]
  },
  {
   "cell_type": "code",
   "execution_count": 11,
   "metadata": {},
   "outputs": [
    {
     "name": "stdout",
     "output_type": "stream",
     "text": [
      "[ 125.28879563  152.1148754   165.96624993   97.41071273   80.3448842\n",
      "   41.30387921  145.74441201  120.90544926   80.3448842   133.99704375\n",
      "   71.11063452   84.202229  ]\n"
     ]
    }
   ],
   "source": [
    "y_pred=regressor.predict(x_test)\n",
    "print(y_pred)"
   ]
  },
  {
   "cell_type": "code",
   "execution_count": 12,
   "metadata": {},
   "outputs": [
    {
     "name": "stdout",
     "output_type": "stream",
     "text": [
      "[ 58.44461825]\n"
     ]
    }
   ],
   "source": [
    "print(regressor.coef_)"
   ]
  },
  {
   "cell_type": "code",
   "execution_count": 13,
   "metadata": {},
   "outputs": [
    {
     "name": "stdout",
     "output_type": "stream",
     "text": [
      "1.79531727608\n"
     ]
    }
   ],
   "source": [
    "print(regressor.intercept_)"
   ]
  },
  {
   "cell_type": "code",
   "execution_count": 17,
   "metadata": {},
   "outputs": [
    {
     "data": {
      "text/plain": [
       "0.67806251687702224"
      ]
     },
     "execution_count": 17,
     "metadata": {},
     "output_type": "execute_result"
    }
   ],
   "source": [
    "from sklearn.metrics import r2_score\n",
    "r2_score(y_test,y_pred)"
   ]
  },
  {
   "cell_type": "code",
   "execution_count": 21,
   "metadata": {},
   "outputs": [
    {
     "data": {
      "text/plain": [
       "array([ 122.9 ,  119.9 ,  135.9 ,  106.  ,   79.  ,   46.5 ,  119.9 ,\n",
       "        144.9 ,   95.8 ,  152.55,   51.5 ,   76.9 ])"
      ]
     },
     "execution_count": 21,
     "metadata": {},
     "output_type": "execute_result"
    }
   ],
   "source": [
    "y_test"
   ]
  },
  {
   "cell_type": "code",
   "execution_count": 19,
   "metadata": {},
   "outputs": [
    {
     "data": {
      "text/plain": [
       "array([ 125.28879563,  152.1148754 ,  165.96624993,   97.41071273,\n",
       "         80.3448842 ,   41.30387921,  145.74441201,  120.90544926,\n",
       "         80.3448842 ,  133.99704375,   71.11063452,   84.202229  ])"
      ]
     },
     "execution_count": 19,
     "metadata": {},
     "output_type": "execute_result"
    }
   ],
   "source": [
    "y_pred"
   ]
  },
  {
   "cell_type": "code",
   "execution_count": 22,
   "metadata": {},
   "outputs": [
    {
     "name": "stdout",
     "output_type": "stream",
     "text": [
      "[ 122.9   119.9   135.9   106.     79.     46.5   119.9   144.9    95.8\n",
      "  152.55   51.5    76.9 ]\n",
      "[[ 2.113]\n",
      " [ 2.572]\n",
      " [ 2.809]\n",
      " [ 1.636]\n",
      " [ 1.344]\n",
      " [ 0.676]\n",
      " [ 2.463]\n",
      " [ 2.038]\n",
      " [ 1.344]\n",
      " [ 2.262]\n",
      " [ 1.186]\n",
      " [ 1.41 ]]\n",
      "[ 109.9    132.9    114.9    134.9    124.9     62.5     82.9    112.29\n",
      "  108.9    189.5    169.9     89.9    179.     102.      84.9     56.99\n",
      "  110.      85.     156.9     93.5    164.      65.5     79.95    99.9\n",
      "   87.9    139.5    147.6    167.5    126.9     39.9     79.9    199.\n",
      "   99.5     59.9     98.5    123.938   94.9     89.9     69.     129.9\n",
      "  179.9     48.6     30.     175.     149.99   139.99 ]\n",
      "[[ 1.8  ]\n",
      " [ 1.98 ]\n",
      " [ 2.082]\n",
      " [ 2.483]\n",
      " [ 1.852]\n",
      " [ 0.994]\n",
      " [ 1.524]\n",
      " [ 1.387]\n",
      " [ 1.5  ]\n",
      " [ 2.51 ]\n",
      " [ 2.949]\n",
      " [ 1.624]\n",
      " [ 2.805]\n",
      " [ 1.312]\n",
      " [ 1.75 ]\n",
      " [ 1.456]\n",
      " [ 1.972]\n",
      " [ 1.152]\n",
      " [ 2.456]\n",
      " [ 1.532]\n",
      " [ 2.436]\n",
      " [ 1.176]\n",
      " [ 1.77 ]\n",
      " [ 1.45 ]\n",
      " [ 1.77 ]\n",
      " [ 2.036]\n",
      " [ 2.37 ]\n",
      " [ 1.92 ]\n",
      " [ 2.67 ]\n",
      " [ 1.036]\n",
      " [ 1.064]\n",
      " [ 3.627]\n",
      " [ 1.752]\n",
      " [ 1.368]\n",
      " [ 1.55 ]\n",
      " [ 2.016]\n",
      " [ 1.647]\n",
      " [ 1.54 ]\n",
      " [ 1.216]\n",
      " [ 2.336]\n",
      " [ 2.553]\n",
      " [ 1.456]\n",
      " [ 0.951]\n",
      " [ 3.31 ]\n",
      " [ 2.921]\n",
      " [ 2.298]]\n"
     ]
    }
   ],
   "source": [
    "print(y_test)\n",
    "print(x_test)\n",
    "print(y_train)\n",
    "print(x_train)"
   ]
  },
  {
   "cell_type": "code",
   "execution_count": null,
   "metadata": {
    "collapsed": true
   },
   "outputs": [],
   "source": []
  }
 ],
 "metadata": {
  "kernelspec": {
   "display_name": "Python 2",
   "language": "python",
   "name": "python2"
  },
  "language_info": {
   "codemirror_mode": {
    "name": "ipython",
    "version": 2
   },
   "file_extension": ".py",
   "mimetype": "text/x-python",
   "name": "python",
   "nbconvert_exporter": "python",
   "pygments_lexer": "ipython2",
   "version": "2.7.13"
  }
 },
 "nbformat": 4,
 "nbformat_minor": 2
}
